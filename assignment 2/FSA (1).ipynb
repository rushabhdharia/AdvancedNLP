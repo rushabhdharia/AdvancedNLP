{
  "nbformat": 4,
  "nbformat_minor": 0,
  "metadata": {
    "colab": {
      "name": "FSA.ipynb",
      "provenance": [],
      "collapsed_sections": []
    },
    "kernelspec": {
      "name": "python3",
      "display_name": "Python 3"
    }
  },
  "cells": [
    {
      "cell_type": "markdown",
      "metadata": {
        "id": "VEmZfsPDF5rS",
        "colab_type": "text"
      },
      "source": [
        "# Part F"
      ]
    },
    {
      "cell_type": "code",
      "metadata": {
        "id": "TgkJ0Jg8wi3A",
        "colab_type": "code",
        "colab": {}
      },
      "source": [
        "import numpy as np\n",
        "from numpy import array"
      ],
      "execution_count": 0,
      "outputs": []
    },
    {
      "cell_type": "code",
      "metadata": {
        "id": "i3cw8WQJwqB-",
        "colab_type": "code",
        "colab": {}
      },
      "source": [
        "a= array([[0,0,0,1],\n",
        "          [0,0,0,1],\n",
        "          [0,0,1,0],\n",
        "          [0,0,0,1]])\n",
        "\n",
        "b= array([[0,1,0,0],\n",
        "          [0,1,0,0],\n",
        "          [0,0,0,0],\n",
        "          [0,1,0,0]])\n",
        "\n",
        "c= array([[0,0,1,0],\n",
        "          [0,0,0,0],\n",
        "          [0,0,0,0],\n",
        "          [0,0,0,0]])"
      ],
      "execution_count": 0,
      "outputs": []
    },
    {
      "cell_type": "code",
      "metadata": {
        "id": "ltBo1a0axVi0",
        "colab_type": "code",
        "colab": {}
      },
      "source": [
        "init = array([\n",
        "    [1, 0, 0, 0]\n",
        "])"
      ],
      "execution_count": 0,
      "outputs": []
    },
    {
      "cell_type": "code",
      "metadata": {
        "id": "KqcGwhSmxX6C",
        "colab_type": "code",
        "colab": {}
      },
      "source": [
        "final = array([\n",
        "    [1],\n",
        "    [1],\n",
        "    [1],\n",
        "    [0]\n",
        "])"
      ],
      "execution_count": 0,
      "outputs": []
    },
    {
      "cell_type": "code",
      "metadata": {
        "id": "l_5TiCSAxakn",
        "colab_type": "code",
        "outputId": "4400ddaa-ca44-4278-b964-3531f94f5451",
        "colab": {
          "base_uri": "https://localhost:8080/",
          "height": 33
        }
      },
      "source": [
        "init.dot(b).dot(b).dot(final)"
      ],
      "execution_count": 7,
      "outputs": [
        {
          "output_type": "execute_result",
          "data": {
            "text/plain": [
              "array([[1]])"
            ]
          },
          "metadata": {
            "tags": []
          },
          "execution_count": 7
        }
      ]
    },
    {
      "cell_type": "markdown",
      "metadata": {
        "id": "OGftpeZ5lNbc",
        "colab_type": "text"
      },
      "source": [
        "# Wrapping the Process into a Function"
      ]
    },
    {
      "cell_type": "code",
      "metadata": {
        "id": "fdltoTon98cd",
        "colab_type": "code",
        "colab": {}
      },
      "source": [
        "S = set( ['a', 'b', 'c'] )\n",
        "Q = set( [0, 1, 2, 3] )\n",
        "i = 0\n",
        "F = set( [ 0, 1, 2  ] )\n",
        "td = { (0, 'a'): [3],\n",
        "       (0, 'b'): [1],\n",
        "       (0, 'c'): [2],\n",
        "       (1, 'a'): [3],\n",
        "       (1, 'b'): [1],\n",
        "       (2, 'a'): [2],\n",
        "       (3, 'a'): [3],\n",
        "       (3, 'b'): [1],\n",
        "      \n",
        "     }\n"
      ],
      "execution_count": 0,
      "outputs": []
    },
    {
      "cell_type": "markdown",
      "metadata": {
        "id": "TvNiVgYV40-Y",
        "colab_type": "text"
      },
      "source": [
        "# FSA to Regular expression"
      ]
    },
    {
      "cell_type": "code",
      "metadata": {
        "id": "xWBhsiY9mgKy",
        "colab_type": "code",
        "colab": {}
      },
      "source": [
        "alphabetMatrices = {}\n",
        "alphabetMatrices[\"a\"] = array([[0,0,0,1],\n",
        "          [0,0,0,1],\n",
        "          [0,0,1,0],\n",
        "          [0,0,0,1]])\n",
        "\n",
        "alphabetMatrices[\"b\"] = array([[0,1,0,0],\n",
        "          [0,1,0,0],\n",
        "          [0,0,0,0],\n",
        "          [0,1,0,0]])\n",
        "\n",
        "alphabetMatrices[\"c\"] = array([[0,0,1,0],\n",
        "          [0,0,0,0],\n",
        "          [0,0,0,0],\n",
        "          [0,0,0,0]])\n",
        "\n",
        "alphabetMatrices[\"default\"] = array([\n",
        "    [0, 0, 0, 0],\n",
        "    [0, 0, 0, 0],\n",
        "    [0, 0, 0, 0],\n",
        "    [0, 0, 0, 0]\n",
        "])"
      ],
      "execution_count": 0,
      "outputs": []
    },
    {
      "cell_type": "markdown",
      "metadata": {
        "id": "hK3EaXhwBRh_",
        "colab_type": "text"
      },
      "source": [
        "# Transition Table: "
      ]
    },
    {
      "cell_type": "markdown",
      "metadata": {
        "id": "y2ThUF8jBYLs",
        "colab_type": "text"
      },
      "source": [
        "          Input\n",
        "State      \n",
        "\n",
        "          a   b   c\n",
        "\n",
        "    0     3   1   2\n",
        "\n",
        "    1     3   1   0\n",
        "\n",
        "    2     2   0   0\n",
        "\n",
        "    3     3   1   0 "
      ]
    },
    {
      "cell_type": "markdown",
      "metadata": {
        "id": "-qOkEs12_wOr",
        "colab_type": "text"
      },
      "source": [
        "# Transition Matrix:"
      ]
    },
    {
      "cell_type": "markdown",
      "metadata": {
        "id": "g864K9ns_z19",
        "colab_type": "text"
      },
      "source": [
        "              0   1    2    3\n",
        "\n",
        "     0        -   b    c    a\n",
        "\n",
        "     1        -   b    -    a\n",
        "\n",
        "     2        -   -    a    -\n",
        "\n",
        "     3        -   b    -    a\n"
      ]
    },
    {
      "cell_type": "code",
      "metadata": {
        "id": "OUzWl44ZnauQ",
        "colab_type": "code",
        "colab": {}
      },
      "source": [
        "\n",
        "def paths(seq):\n",
        "    res = init\n",
        "    for x in seq:\n",
        "        res = res.dot( alphabetMatrices.get(x, alphabetMatrices[\"default\"]) )\n",
        "    return res.dot(array([\n",
        "    [1],\n",
        "    [1],\n",
        "    [1],\n",
        "    [0]    \n",
        "]))[0][0]"
      ],
      "execution_count": 0,
      "outputs": []
    },
    {
      "cell_type": "code",
      "metadata": {
        "id": "h-PB9bHPnY0G",
        "colab_type": "code",
        "colab": {
          "base_uri": "https://localhost:8080/",
          "height": 33
        },
        "outputId": "5c407e33-2086-4951-be36-800708a326fb"
      },
      "source": [
        "#Function to check if paths for given input exist\n",
        "def possible(x):\n",
        "  temp=paths(str(x))\n",
        "  if temp>0: print(\"Sequence accepted with paths possible : \", temp)\n",
        "  else: print(\"Sequence not accepted: No paths found\")\n",
        "  return \n",
        "  \n",
        "#example case\n",
        "possible('ac')"
      ],
      "execution_count": 11,
      "outputs": [
        {
          "output_type": "stream",
          "text": [
            "Sequence not accepted: No paths found\n"
          ],
          "name": "stdout"
        }
      ]
    },
    {
      "cell_type": "markdown",
      "metadata": {
        "id": "R-uMe7Cf05YP",
        "colab_type": "text"
      },
      "source": [
        "Set of states: { 0, 1, 2, 3}\n",
        "\n",
        "Set of Symbols: {a, b, c}\n",
        "\n",
        "Accepting State: {0}\n",
        "\n",
        "Final States: {0, 1, 2}\n",
        "\n",
        "Calculating Regular Expression :\n",
        "\n",
        "\n"
      ]
    },
    {
      "cell_type": "code",
      "metadata": {
        "id": "UpWRmrPLzhXx",
        "colab_type": "code",
        "colab": {
          "base_uri": "https://localhost:8080/",
          "height": 134
        },
        "outputId": "5dae4d23-a300-4d1d-a1bc-b1b13a4fec1a"
      },
      "source": [
        "#Case 1:\n",
        "\n",
        "possible('ca')\n",
        "possible('caa')\n",
        "\n",
        "\n",
        "\n",
        "\n",
        "#Case 2:\n",
        "possible('b')\n",
        "\n",
        "\n",
        "#Case 3:\n",
        "\n",
        "possible('aabab')\n",
        "possible('aababb')\n",
        "\n",
        "\n",
        "\n",
        "#Case 4\n",
        "\n",
        "possible('babb')\n",
        "possible('babbb')\n",
        "\n",
        "\n",
        "\n",
        "\n"
      ],
      "execution_count": 15,
      "outputs": [
        {
          "output_type": "stream",
          "text": [
            "Sequence accepted with paths possible :  1\n",
            "Sequence accepted with paths possible :  1\n",
            "Sequence accepted with paths possible :  1\n",
            "Sequence accepted with paths possible :  1\n",
            "Sequence accepted with paths possible :  1\n",
            "Sequence accepted with paths possible :  1\n",
            "Sequence accepted with paths possible :  1\n"
          ],
          "name": "stdout"
        }
      ]
    },
    {
      "cell_type": "markdown",
      "metadata": {
        "id": "-1PgqBjp4G3v",
        "colab_type": "text"
      },
      "source": [
        "Also since 0 itself is an accepting/ final state the automata can accept ^$ (null string as well)\n",
        "\n",
        "Now computing, all possibilities of inputs we find that the regular expression can be:\n",
        "\n"
      ]
    },
    {
      "cell_type": "code",
      "metadata": {
        "id": "e--U9zPStu5s",
        "colab_type": "code",
        "colab": {
          "base_uri": "https://localhost:8080/",
          "height": 33
        },
        "outputId": "83c8b613-398a-444a-e3b6-2e5cfadc538f"
      },
      "source": [
        "print(\"Regular Expression is :  b + (a + b +)* |  c a* | (a + b +)*   \") \n"
      ],
      "execution_count": 14,
      "outputs": [
        {
          "output_type": "stream",
          "text": [
            "Regular Expression is :  b + (a + b +)* |  c a* | (a + b +)*   \n"
          ],
          "name": "stdout"
        }
      ]
    }
  ]
}