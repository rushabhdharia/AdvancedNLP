{
 "cells": [
  {
   "cell_type": "markdown",
   "metadata": {
    "colab_type": "text",
    "id": "W0Fa5dMxdjQA"
   },
   "source": [
    "# Question 3"
   ]
  },
  {
   "cell_type": "markdown",
   "metadata": {
    "colab_type": "text",
    "id": "K_1i96X_dpS3"
   },
   "source": [
    "# a"
   ]
  },
  {
   "cell_type": "code",
   "execution_count": 42,
   "metadata": {
    "colab": {
     "base_uri": "https://localhost:8080/",
     "height": 35
    },
    "colab_type": "code",
    "id": "etZ9jTxjdisu",
    "outputId": "a97a0f70-c487-4836-c5fb-ade7a70db654"
   },
   "outputs": [
    {
     "name": "stdout",
     "output_type": "stream",
     "text": [
      "1/6\n"
     ]
    }
   ],
   "source": [
    "print(\"1/6\")\n"
   ]
  },
  {
   "cell_type": "markdown",
   "metadata": {
    "colab_type": "text",
    "id": "Uf5h1G7Udvu_"
   },
   "source": [
    "# b"
   ]
  },
  {
   "cell_type": "code",
   "execution_count": 0,
   "metadata": {
    "colab": {},
    "colab_type": "code",
    "id": "5mg2zSqVdipg"
   },
   "outputs": [],
   "source": []
  },
  {
   "cell_type": "code",
   "execution_count": 0,
   "metadata": {
    "colab": {},
    "colab_type": "code",
    "id": "YeKYcGsAdiNz"
   },
   "outputs": [],
   "source": []
  },
  {
   "cell_type": "markdown",
   "metadata": {
    "colab_type": "text",
    "id": "W4iHNHEZY8qT"
   },
   "source": [
    "# Question 4"
   ]
  },
  {
   "cell_type": "code",
   "execution_count": 41,
   "metadata": {
    "colab": {
     "base_uri": "https://localhost:8080/",
     "height": 35
    },
    "colab_type": "code",
    "id": "1vabOQGUY73t",
    "outputId": "b1c83ccb-4a14-45f6-ac9a-9f6c38fa4a1c"
   },
   "outputs": [
    {
     "name": "stdout",
     "output_type": "stream",
     "text": [
      "0.65 is the probablity that the writer is british\n"
     ]
    }
   ],
   "source": [
    "print('0.65 is the probablity that the writer is british')"
   ]
  },
  {
   "cell_type": "markdown",
   "metadata": {
    "colab_type": "text",
    "id": "FQySobXlYV2D"
   },
   "source": [
    "# Question 5"
   ]
  },
  {
   "cell_type": "code",
   "execution_count": 0,
   "metadata": {
    "colab": {},
    "colab_type": "code",
    "id": "8b6B0ikoYVdL"
   },
   "outputs": [],
   "source": [
    "Distribution = [1/8\t,1/16,\t1/4,\t1/8,\t1/16,\t1/16,\t1/4,\t1/16]"
   ]
  },
  {
   "cell_type": "code",
   "execution_count": 40,
   "metadata": {
    "colab": {
     "base_uri": "https://localhost:8080/",
     "height": 35
    },
    "colab_type": "code",
    "id": "KC8dGZTKYVZ7",
    "outputId": "902a83b8-1f94-48df-91b5-0338ffa8aea3"
   },
   "outputs": [
    {
     "name": "stdout",
     "output_type": "stream",
     "text": [
      "2.75\n"
     ]
    }
   ],
   "source": [
    "entropy = 0\n",
    "for i in Distribution:\n",
    "  entropy+= i*np.log2(i)\n",
    "entropy = -1*entropy\n",
    "print(entropy)"
   ]
  },
  {
   "cell_type": "markdown",
   "metadata": {
    "colab_type": "text",
    "id": "5RbWGaEWX9FQ"
   },
   "source": [
    "# Question 6"
   ]
  },
  {
   "cell_type": "code",
   "execution_count": 0,
   "metadata": {
    "colab": {},
    "colab_type": "code",
    "id": "8K1WlVPCQmjm"
   },
   "outputs": [],
   "source": [
    "import nltk\n",
    "import numpy as np"
   ]
  },
  {
   "cell_type": "code",
   "execution_count": 0,
   "metadata": {
    "colab": {},
    "colab_type": "code",
    "id": "DXPfrJlvRRl5"
   },
   "outputs": [],
   "source": [
    "text = 'Bach was the most famous composer in the world, and so was Handel. Handel was half German, half Italian and half English. He was very large. Bach died from 1750 to the present. Beethoven wrote music even though he was deaf. He was so deaf he wrote loud music. He took long walks in the forest even when everyone was calling for him. Beethoven expired in 1827 and later died for this.'"
   ]
  },
  {
   "cell_type": "code",
   "execution_count": 0,
   "metadata": {
    "colab": {},
    "colab_type": "code",
    "id": "sVGg-dTRRWmx"
   },
   "outputs": [],
   "source": [
    "text = text.lower()"
   ]
  },
  {
   "cell_type": "code",
   "execution_count": 0,
   "metadata": {
    "colab": {},
    "colab_type": "code",
    "id": "0dZ6G2uyVJJ5"
   },
   "outputs": [],
   "source": [
    "d ={}"
   ]
  },
  {
   "cell_type": "code",
   "execution_count": 0,
   "metadata": {
    "colab": {},
    "colab_type": "code",
    "id": "QPoMhZ3FU9EW"
   },
   "outputs": [],
   "source": [
    "for i in text:\n",
    "  if i.isalpha():\n",
    "    if i not in d:\n",
    "      d[i]=1\n",
    "    else:\n",
    "      d[i]+=1\n",
    "    "
   ]
  },
  {
   "cell_type": "code",
   "execution_count": 29,
   "metadata": {
    "colab": {
     "base_uri": "https://localhost:8080/",
     "height": 426
    },
    "colab_type": "code",
    "id": "5a1PKoztVYq_",
    "outputId": "3932e733-15a2-488a-c03d-9a520b0f7e7f"
   },
   "outputs": [
    {
     "data": {
      "text/plain": [
       "{'a': 27,\n",
       " 'b': 4,\n",
       " 'c': 6,\n",
       " 'd': 14,\n",
       " 'e': 42,\n",
       " 'f': 10,\n",
       " 'g': 6,\n",
       " 'h': 24,\n",
       " 'i': 14,\n",
       " 'k': 2,\n",
       " 'l': 15,\n",
       " 'm': 8,\n",
       " 'n': 20,\n",
       " 'o': 22,\n",
       " 'p': 3,\n",
       " 'r': 15,\n",
       " 's': 19,\n",
       " 't': 17,\n",
       " 'u': 5,\n",
       " 'v': 6,\n",
       " 'w': 12,\n",
       " 'x': 1,\n",
       " 'y': 2}"
      ]
     },
     "execution_count": 29,
     "metadata": {
      "tags": []
     },
     "output_type": "execute_result"
    }
   ],
   "source": [
    "d"
   ]
  },
  {
   "cell_type": "code",
   "execution_count": 0,
   "metadata": {
    "colab": {},
    "colab_type": "code",
    "id": "ctS7wTw9Vqcb"
   },
   "outputs": [],
   "source": [
    "total = 0\n",
    "for i in d:\n",
    "  total += d[i]"
   ]
  },
  {
   "cell_type": "code",
   "execution_count": 31,
   "metadata": {
    "colab": {
     "base_uri": "https://localhost:8080/",
     "height": 35
    },
    "colab_type": "code",
    "id": "vOznFH9ZVvTd",
    "outputId": "70ff4e89-b634-46fd-ff3e-40fb7a1ca4d2"
   },
   "outputs": [
    {
     "data": {
      "text/plain": [
       "294"
      ]
     },
     "execution_count": 31,
     "metadata": {
      "tags": []
     },
     "output_type": "execute_result"
    }
   ],
   "source": [
    "total"
   ]
  },
  {
   "cell_type": "code",
   "execution_count": 0,
   "metadata": {
    "colab": {},
    "colab_type": "code",
    "id": "oBEBralRVw3B"
   },
   "outputs": [],
   "source": [
    "probablity_each_car = {}\n",
    "for i in d:\n",
    "  probablity_each_car[i] = d[i]/total\n",
    "  "
   ]
  },
  {
   "cell_type": "code",
   "execution_count": 33,
   "metadata": {
    "colab": {
     "base_uri": "https://localhost:8080/",
     "height": 426
    },
    "colab_type": "code",
    "id": "EUqqwLJtV_ua",
    "outputId": "02ca145e-f7a9-470d-e63a-8e0014d5f073"
   },
   "outputs": [
    {
     "data": {
      "text/plain": [
       "{'a': 0.09183673469387756,\n",
       " 'b': 0.013605442176870748,\n",
       " 'c': 0.02040816326530612,\n",
       " 'd': 0.047619047619047616,\n",
       " 'e': 0.14285714285714285,\n",
       " 'f': 0.034013605442176874,\n",
       " 'g': 0.02040816326530612,\n",
       " 'h': 0.08163265306122448,\n",
       " 'i': 0.047619047619047616,\n",
       " 'k': 0.006802721088435374,\n",
       " 'l': 0.05102040816326531,\n",
       " 'm': 0.027210884353741496,\n",
       " 'n': 0.06802721088435375,\n",
       " 'o': 0.07482993197278912,\n",
       " 'p': 0.01020408163265306,\n",
       " 'r': 0.05102040816326531,\n",
       " 's': 0.06462585034013606,\n",
       " 't': 0.05782312925170068,\n",
       " 'u': 0.017006802721088437,\n",
       " 'v': 0.02040816326530612,\n",
       " 'w': 0.04081632653061224,\n",
       " 'x': 0.003401360544217687,\n",
       " 'y': 0.006802721088435374}"
      ]
     },
     "execution_count": 33,
     "metadata": {
      "tags": []
     },
     "output_type": "execute_result"
    }
   ],
   "source": [
    "probablity_each_car"
   ]
  },
  {
   "cell_type": "code",
   "execution_count": 36,
   "metadata": {
    "colab": {
     "base_uri": "https://localhost:8080/",
     "height": 35
    },
    "colab_type": "code",
    "id": "NgQSHtmqWHN2",
    "outputId": "18ac5247-80a3-43fb-aa5b-8ff416175c05"
   },
   "outputs": [
    {
     "name": "stdout",
     "output_type": "stream",
     "text": [
      "4.122844853238207\n"
     ]
    }
   ],
   "source": [
    "entropy = 0\n",
    "for i in probablity_each_car:\n",
    "  entropy+= probablity_each_car[i]*np.log2(probablity_each_car[i])\n",
    "entropy = -1*entropy\n",
    "print(entropy)"
   ]
  },
  {
   "cell_type": "markdown",
   "metadata": {
    "colab_type": "text",
    "id": "2Eel2nL5WsS7"
   },
   "source": [
    "**4 Bits are requiered**"
   ]
  },
  {
   "cell_type": "markdown",
   "metadata": {
    "colab_type": "text",
    "id": "ZvYFuj1qYLE8"
   },
   "source": [
    "**C PART NOT SOLVED**"
   ]
  },
  {
   "cell_type": "code",
   "execution_count": 0,
   "metadata": {
    "colab": {},
    "colab_type": "code",
    "id": "WM1A-ybJWhMr"
   },
   "outputs": [],
   "source": []
  }
 ],
 "metadata": {
  "colab": {
   "name": "ANLP_1.ipynb",
   "provenance": []
  },
  "kernelspec": {
   "display_name": "Python 3",
   "language": "python",
   "name": "python3"
  },
  "language_info": {
   "codemirror_mode": {
    "name": "ipython",
    "version": 3
   },
   "file_extension": ".py",
   "mimetype": "text/x-python",
   "name": "python",
   "nbconvert_exporter": "python",
   "pygments_lexer": "ipython3",
   "version": "3.7.3"
  }
 },
 "nbformat": 4,
 "nbformat_minor": 1
}
