{
 "cells": [
  {
   "cell_type": "code",
   "execution_count": 1,
   "metadata": {},
   "outputs": [],
   "source": [
    "text = \"Bach was the most famous composer in the world, and so was Handel. Handel was half German, half Italian and half English. He was very large. Bach died from 1750 to the present. Beethoven wrote music even though he was deaf. He was so deaf he wrote loud music. He took long walks in the forest even when everyone was calling for him. Beethoven expired in 1827 and later died for this.\""
   ]
  },
  {
   "cell_type": "code",
   "execution_count": 2,
   "metadata": {},
   "outputs": [],
   "source": [
    "text = text.lower()"
   ]
  },
  {
   "cell_type": "code",
   "execution_count": 3,
   "metadata": {},
   "outputs": [],
   "source": [
    "total = 0\n",
    "hashmap = {}\n",
    "for i in text:\n",
    "    if i.isalpha():\n",
    "        if i not in hashmap:\n",
    "            hashmap[i] = 0\n",
    "        total += 1\n",
    "        hashmap[i] += 1"
   ]
  },
  {
   "cell_type": "code",
   "execution_count": 4,
   "metadata": {},
   "outputs": [
    {
     "name": "stdout",
     "output_type": "stream",
     "text": [
      "a 0.09183673469387756\n",
      "b 0.013605442176870748\n",
      "c 0.02040816326530612\n",
      "d 0.047619047619047616\n",
      "e 0.14285714285714285\n",
      "f 0.034013605442176874\n",
      "g 0.02040816326530612\n",
      "h 0.08163265306122448\n",
      "i 0.047619047619047616\n",
      "k 0.006802721088435374\n",
      "l 0.05102040816326531\n",
      "m 0.027210884353741496\n",
      "n 0.06802721088435375\n",
      "o 0.07482993197278912\n",
      "p 0.01020408163265306\n",
      "r 0.05102040816326531\n",
      "s 0.06462585034013606\n",
      "t 0.05782312925170068\n",
      "u 0.017006802721088437\n",
      "v 0.02040816326530612\n",
      "w 0.04081632653061224\n",
      "x 0.003401360544217687\n",
      "y 0.006802721088435374\n"
     ]
    }
   ],
   "source": [
    "for i in sorted(hashmap):\n",
    "    print(i, hashmap[i]/total)"
   ]
  },
  {
   "cell_type": "code",
   "execution_count": 5,
   "metadata": {},
   "outputs": [
    {
     "name": "stdout",
     "output_type": "stream",
     "text": [
      "23\n"
     ]
    }
   ],
   "source": [
    "print(len(hashmap))"
   ]
  },
  {
   "cell_type": "code",
   "execution_count": 18,
   "metadata": {},
   "outputs": [],
   "source": [
    "import heapq\n",
    "\n",
    "class Node:\n",
    "    def __init__(self):\n",
    "        self.left = None\n",
    "        self.right = None\n",
    "        self.freq = None\n",
    "        pass\n",
    "\n",
    "    def __lt__(self, other):\n",
    "        return self.freq < other.freq  #given that self.freq contains the frequency of your character\n"
   ]
  },
  {
   "cell_type": "code",
   "execution_count": 35,
   "metadata": {},
   "outputs": [],
   "source": [
    "def traverseTree(node, bit, hashmap):\n",
    "    if node[1].left is None and node[1].right is None:# if this is leaf node\n",
    "        hashmap[node[1].char] = bit\n",
    "        print (node[1].char, bit) # print code (or save it somewhere else)\n",
    "    else:\n",
    "        traverseTree(node[1].left, bit + '0', hashmap)    # stick a 0 to the bit and continue down left\n",
    "        traverseTree(node[1].right, bit + '1', hashmap)   # stick a 1 to the bit and continue down right"
   ]
  },
  {
   "cell_type": "code",
   "execution_count": 25,
   "metadata": {},
   "outputs": [],
   "source": [
    "def huffman(Q):\n",
    "    while len(Q)>1:\n",
    "        new_node = Node()\n",
    "        new_node.left = x = heapq.heappop(Q)\n",
    "        new_node.right = y = heapq.heappop(Q)\n",
    "        freq = x[0] + y[0]\n",
    "        new_node.freq = freq\n",
    "        heapq.heappush(Q, (freq, new_node))\n",
    "\n",
    "    return heapq.heappop(Q)"
   ]
  },
  {
   "cell_type": "code",
   "execution_count": 31,
   "metadata": {},
   "outputs": [],
   "source": [
    "Q = []\n",
    "for i in hashmap:\n",
    "    newnode = Node()\n",
    "    newnode.char = i\n",
    "    newnode.freq = hashmap[i]\n",
    "    heapq.heappush(Q, (hashmap[i], newnode))"
   ]
  },
  {
   "cell_type": "code",
   "execution_count": 32,
   "metadata": {},
   "outputs": [],
   "source": [
    "node1 = huffman(Q)"
   ]
  },
  {
   "cell_type": "code",
   "execution_count": 36,
   "metadata": {},
   "outputs": [
    {
     "name": "stdout",
     "output_type": "stream",
     "text": [
      "a 000\n",
      "i 0010\n",
      "d 0011\n",
      "r 0100\n",
      "l 0101\n",
      "t 0110\n",
      "m 01110\n",
      "f 01111\n",
      "s 1000\n",
      "n 1001\n",
      "e 101\n",
      "o 1100\n",
      "u 110100\n",
      "k 1101010\n",
      "p 1101011\n",
      "w 11011\n",
      "h 1110\n",
      "c 111100\n",
      "g 111101\n",
      "v 111110\n",
      "x 11111100\n",
      "y 11111101\n",
      "b 1111111\n"
     ]
    }
   ],
   "source": [
    "traverseTree(node1, \"\", hashmap)"
   ]
  },
  {
   "cell_type": "code",
   "execution_count": null,
   "metadata": {},
   "outputs": [],
   "source": []
  }
 ],
 "metadata": {
  "kernelspec": {
   "display_name": "Python 3",
   "language": "python",
   "name": "python3"
  },
  "language_info": {
   "codemirror_mode": {
    "name": "ipython",
    "version": 3
   },
   "file_extension": ".py",
   "mimetype": "text/x-python",
   "name": "python",
   "nbconvert_exporter": "python",
   "pygments_lexer": "ipython3",
   "version": "3.7.3"
  }
 },
 "nbformat": 4,
 "nbformat_minor": 2
}
