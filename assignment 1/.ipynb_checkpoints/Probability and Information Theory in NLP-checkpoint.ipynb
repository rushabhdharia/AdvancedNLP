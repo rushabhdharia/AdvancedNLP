{
 "cells": [
  {
   "cell_type": "markdown",
   "metadata": {},
   "source": [
    "# Q1"
   ]
  },
  {
   "cell_type": "markdown",
   "metadata": {},
   "source": [
    "Let A be the event is-abbreviation  \n",
    "Let B be the event three-letter-word  \n",
    "\n",
    "Therefore,\n",
    "P(A $\\cap$ B) = P(A|B).P(B)\n",
    "= 0.8 * 0.0003"
   ]
  },
  {
   "cell_type": "code",
   "execution_count": 1,
   "metadata": {},
   "outputs": [
    {
     "name": "stdout",
     "output_type": "stream",
     "text": [
      "0.00023999999999999998\n"
     ]
    }
   ],
   "source": [
    "print(0.8*0.0003)"
   ]
  },
  {
   "cell_type": "markdown",
   "metadata": {},
   "source": [
    "# Q2"
   ]
  },
  {
   "cell_type": "markdown",
   "metadata": {},
   "source": [
    "We know that,  \n",
    "2 events are independent if P (X $\\cap$Y) = P(X).P(Y)  \n",
    "\n",
    "Now,  \n",
    "P(X=0) = 0.32 + 0.08 = 0.4  \n",
    "P(X=1) = 0.48 + 0.12 = 0.6  \n",
    "P(Y=0) = 0.32 + 0.48 = 0.8  \n",
    "P(Y=1) = 0.08 + 0.12 = 0.2  \n",
    "\n",
    "P(X = 0).P(Y = 0) = 0.4 * 0.8 = 0.32 = P(X=0, Y=0)  \n",
    "P(X = 0).P(Y = 1) = 0.4 * 0.2 = 0.08 = P(X=0, Y=1)  \n",
    "P(X = 1).P(Y = 0) = 0.6 * 0.8 = 0.48 = P(X=1, Y=0)  \n",
    "P(X = 1).P(Y = 1) = 0.6 * 0.2 = 0.12 = P(X=1, Y=1)  \n",
    "\n",
    "Since, P (X $\\cap$Y) = P(X).P(Y)\n",
    "\n",
    "X and Y are independent"
   ]
  },
  {
   "cell_type": "markdown",
   "metadata": {},
   "source": [
    "# Q3"
   ]
  },
  {
   "cell_type": "markdown",
   "metadata": {},
   "source": [
    "## a"
   ]
  },
  {
   "cell_type": "markdown",
   "metadata": {},
   "source": [
    "P(at least one lands on 1 and the other lands on a different number) =  \n",
    "P(dice 1 lands on 1) * P(dice 2 doesn't land on 1) + P(dice 1 doesn't land on 1) * P(dice 2 lands on 1)  \n",
    "= $\\frac{1}{6}*\\frac{5}{6} + \\frac{5}{6} * \\frac{1}{6}$  \n",
    "= $\\frac{5}{18}$\n",
    "\n",
    "P (at least one lands on 1 | other lands on a different number) =  $\\frac{P(at\\, least\\, one\\, lands\\, on\\, 1\\, and\\, the\\, other\\, lands\\, on\\, a\\, different\\, number)}{P(other\\, lands\\, on\\, a\\, different\\, number)} =   \n",
    "\\frac{\\frac{5}{18}}{\\frac{5}{6}}$\n",
    "= $\\frac{1}{3}$"
   ]
  },
  {
   "cell_type": "markdown",
   "metadata": {},
   "source": [
    "## b"
   ]
  },
  {
   "cell_type": "markdown",
   "metadata": {},
   "source": [
    "Let A be the event that a bulb works after 1 week  \n",
    "Let B be the event that a bulb lights initially\n",
    "P(A|B) = $\\frac{P(A \\cap B)}{P(B)}$  \n",
    " = $\\frac{5}{15}$  \n",
    " = $\\frac{1}{3}$"
   ]
  },
  {
   "cell_type": "markdown",
   "metadata": {},
   "source": [
    "# Q4"
   ]
  },
  {
   "cell_type": "markdown",
   "metadata": {},
   "source": [
    "P(random letter is vowel) = P(vowel|British).P(British) + P(vowel|American).P(American)  \n",
    "\n",
    "=$\\frac{1}{2}.\\frac{2}{5} + \\frac{2}{5}.\\frac{3}{5}$  \n",
    "\n",
    "= $\\frac{11}{25}$\n",
    "\n",
    "P (writer is British|random letter is Vowel) = $\\frac {P (random\\, letter\\, is\\, Vowel\\,|\\,writer\\, is\\, British\\, )}{P(random\\, letter\\, is\\, Vowel)} $  \n",
    "\n",
    "= $\\frac{\\frac{1}{2} * \\frac{2}{5} }{\\frac{11}{25} }$  \n",
    "\n",
    "= $\\frac{5}{11}$\n"
   ]
  },
  {
   "cell_type": "markdown",
   "metadata": {},
   "source": [
    "# Q5"
   ]
  },
  {
   "cell_type": "code",
   "execution_count": 2,
   "metadata": {},
   "outputs": [],
   "source": [
    "dist = [1/8, 1/16, 1/4, 1/8, 1/16, 1/16, 1/4, 1/16]"
   ]
  },
  {
   "cell_type": "code",
   "execution_count": 3,
   "metadata": {},
   "outputs": [],
   "source": [
    "import math\n",
    "\n",
    "def entropy(dist):\n",
    "    ans = 0.0\n",
    "    for i in dist:\n",
    "        ans += i * math.log(i, 2)\n",
    "    return -ans"
   ]
  },
  {
   "cell_type": "code",
   "execution_count": 4,
   "metadata": {},
   "outputs": [
    {
     "name": "stdout",
     "output_type": "stream",
     "text": [
      "2.75\n"
     ]
    }
   ],
   "source": [
    "print(entropy(dist))"
   ]
  },
  {
   "cell_type": "markdown",
   "metadata": {},
   "source": [
    "# Q6"
   ]
  },
  {
   "cell_type": "markdown",
   "metadata": {},
   "source": [
    "### a)"
   ]
  },
  {
   "cell_type": "code",
   "execution_count": 5,
   "metadata": {},
   "outputs": [],
   "source": [
    "text = \"Bach was the most famous composer in the world, and so was Handel. Handel was half German, half Italian and half English. He was very large. Bach died from 1750 to the present. Beethoven wrote music even though he was deaf. He was so deaf he wrote loud music. He took long walks in the forest even when everyone was calling for him. Beethoven expired in 1827 and later died for this.\""
   ]
  },
  {
   "cell_type": "code",
   "execution_count": 6,
   "metadata": {},
   "outputs": [],
   "source": [
    "text = text.lower()"
   ]
  },
  {
   "cell_type": "code",
   "execution_count": 7,
   "metadata": {},
   "outputs": [],
   "source": [
    "total = 0\n",
    "hashmap = {}\n",
    "for i in text:\n",
    "    if i.isalpha():\n",
    "        if i not in hashmap:\n",
    "            hashmap[i] = 0\n",
    "        total += 1\n",
    "        hashmap[i] += 1"
   ]
  },
  {
   "cell_type": "code",
   "execution_count": 8,
   "metadata": {},
   "outputs": [
    {
     "name": "stdout",
     "output_type": "stream",
     "text": [
      "a 0.09183673469387756\n",
      "b 0.013605442176870748\n",
      "c 0.02040816326530612\n",
      "d 0.047619047619047616\n",
      "e 0.14285714285714285\n",
      "f 0.034013605442176874\n",
      "g 0.02040816326530612\n",
      "h 0.08163265306122448\n",
      "i 0.047619047619047616\n",
      "k 0.006802721088435374\n",
      "l 0.05102040816326531\n",
      "m 0.027210884353741496\n",
      "n 0.06802721088435375\n",
      "o 0.07482993197278912\n",
      "p 0.01020408163265306\n",
      "r 0.05102040816326531\n",
      "s 0.06462585034013606\n",
      "t 0.05782312925170068\n",
      "u 0.017006802721088437\n",
      "v 0.02040816326530612\n",
      "w 0.04081632653061224\n",
      "x 0.003401360544217687\n",
      "y 0.006802721088435374\n"
     ]
    }
   ],
   "source": [
    "distri = []\n",
    "for i in sorted(hashmap):\n",
    "    prob = hashmap[i]/total\n",
    "    distri.append(prob)\n",
    "    print(i, prob)"
   ]
  },
  {
   "cell_type": "markdown",
   "metadata": {},
   "source": [
    "### b)"
   ]
  },
  {
   "cell_type": "code",
   "execution_count": 9,
   "metadata": {},
   "outputs": [],
   "source": [
    "import heapq\n",
    "\n",
    "class Node:\n",
    "    def __init__(self):\n",
    "        self.left = None\n",
    "        self.right = None\n",
    "        self.freq = None\n",
    "        pass\n",
    "\n",
    "    def __lt__(self, other):\n",
    "        return self.freq < other.freq  #given that self.freq contains the frequency of your character\n"
   ]
  },
  {
   "cell_type": "code",
   "execution_count": 10,
   "metadata": {},
   "outputs": [],
   "source": [
    "def traverseTree(node, bit, hashmap):\n",
    "    if node[1].left is None and node[1].right is None:# if this is leaf node\n",
    "        hashmap[node[1].char] = bit\n",
    "        print (node[1].char, bit) # print code (or save it somewhere else)\n",
    "    else:\n",
    "        traverseTree(node[1].left, bit + '0', hashmap)    # stick a 0 to the bit and continue down left\n",
    "        traverseTree(node[1].right, bit + '1', hashmap)   # stick a 1 to the bit and continue down right"
   ]
  },
  {
   "cell_type": "code",
   "execution_count": 11,
   "metadata": {},
   "outputs": [],
   "source": [
    "def huffman(Q):\n",
    "    while len(Q)>1:\n",
    "        new_node = Node()\n",
    "        new_node.left = x = heapq.heappop(Q)\n",
    "        new_node.right = y = heapq.heappop(Q)\n",
    "        freq = x[0] + y[0]\n",
    "        new_node.freq = freq\n",
    "        heapq.heappush(Q, (freq, new_node))\n",
    "\n",
    "    return heapq.heappop(Q)"
   ]
  },
  {
   "cell_type": "code",
   "execution_count": 12,
   "metadata": {},
   "outputs": [],
   "source": [
    "Q = []\n",
    "for i in hashmap:\n",
    "    newnode = Node()\n",
    "    newnode.char = i\n",
    "    newnode.freq = hashmap[i]\n",
    "    heapq.heappush(Q, (hashmap[i], newnode))"
   ]
  },
  {
   "cell_type": "code",
   "execution_count": 13,
   "metadata": {},
   "outputs": [
    {
     "name": "stdout",
     "output_type": "stream",
     "text": [
      "a 000\n",
      "i 0010\n",
      "d 0011\n",
      "r 0100\n",
      "l 0101\n",
      "t 0110\n",
      "m 01110\n",
      "f 01111\n",
      "s 1000\n",
      "n 1001\n",
      "e 101\n",
      "o 1100\n",
      "u 110100\n",
      "k 1101010\n",
      "p 1101011\n",
      "w 11011\n",
      "h 1110\n",
      "c 111100\n",
      "g 111101\n",
      "v 111110\n",
      "x 11111100\n",
      "y 11111101\n",
      "b 1111111\n"
     ]
    }
   ],
   "source": [
    "node1 = huffman(Q)\n",
    "traverseTree(node1, \"\", hashmap)"
   ]
  },
  {
   "cell_type": "markdown",
   "metadata": {},
   "source": [
    "We need 8 bits to encode the data using Huffman Encoding.  \n",
    "Though we can encode it with 5 bits, as we need to encode 23 letters and 2^4 will encode only 16 different elements whereas 2^5 will encode 32 different elements.   \n",
    "But, it makes sense to encode using Huffman Encoding as it will compress the data "
   ]
  },
  {
   "cell_type": "markdown",
   "metadata": {},
   "source": [
    "### c)"
   ]
  },
  {
   "cell_type": "code",
   "execution_count": 14,
   "metadata": {},
   "outputs": [],
   "source": [
    "import numpy as np\n",
    "def variance(dist):\n",
    "    ans = []\n",
    "    for i in dist:\n",
    "        ans.append( i * math.log(i, 2))\n",
    "    return np.var(ans)"
   ]
  },
  {
   "cell_type": "code",
   "execution_count": 15,
   "metadata": {},
   "outputs": [
    {
     "data": {
      "text/plain": [
       "0.00920537000959185"
      ]
     },
     "execution_count": 15,
     "metadata": {},
     "output_type": "execute_result"
    }
   ],
   "source": [
    "variance(distri)\n",
    "    "
   ]
  },
  {
   "cell_type": "markdown",
   "metadata": {},
   "source": [
    "## Q7"
   ]
  },
  {
   "cell_type": "code",
   "execution_count": 16,
   "metadata": {},
   "outputs": [],
   "source": [
    "filenames = [\"A01\", \"A02\", \"A03\",\"A04\", \"A05\", \"A06\", \"A07\", \"A08\", \"A09\", \"A10\", \"A11\", \"A12\", \"A13\", \"A14\", \"A19\", \"A20\"]\n",
    "\n",
    "hashmap = {}\n",
    "total = 0\n",
    "for filename in filenames:\n",
    "    file = open(\"fc2/\"+ filename)\n",
    "    for i in file:\n",
    "        j = i.split()\n",
    "        if j[2] not in hashmap:\n",
    "            hashmap[j[2]] = 0\n",
    "        hashmap[j[2]] += 1  \n",
    "        total += 1"
   ]
  },
  {
   "cell_type": "code",
   "execution_count": 17,
   "metadata": {},
   "outputs": [],
   "source": [
    "distri = []\n",
    "for i in hashmap:\n",
    "    distri.append(hashmap[i]/total)"
   ]
  },
  {
   "cell_type": "code",
   "execution_count": 18,
   "metadata": {},
   "outputs": [
    {
     "data": {
      "text/plain": [
       "6.269610053587194"
      ]
     },
     "execution_count": 18,
     "metadata": {},
     "output_type": "execute_result"
    }
   ],
   "source": [
    "entropy(distri)"
   ]
  }
 ],
 "metadata": {
  "kernelspec": {
   "display_name": "Python 3",
   "language": "python",
   "name": "python3"
  },
  "language_info": {
   "codemirror_mode": {
    "name": "ipython",
    "version": 3
   },
   "file_extension": ".py",
   "mimetype": "text/x-python",
   "name": "python",
   "nbconvert_exporter": "python",
   "pygments_lexer": "ipython3",
   "version": "3.7.3"
  }
 },
 "nbformat": 4,
 "nbformat_minor": 2
}
